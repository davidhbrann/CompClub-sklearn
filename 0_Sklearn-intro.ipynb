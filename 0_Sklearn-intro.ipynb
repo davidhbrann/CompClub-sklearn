{
 "cells": [
  {
   "cell_type": "markdown",
   "metadata": {
    "nbpresent": {
     "id": "68c18f9f-115f-490e-b81f-1b3794c428d0"
    }
   },
   "source": [
    "# Intro to Machine Learning\n",
    "\n",
    "## An oft-quoted definition\n",
    "> A computer program is said to learn from experience E with respect to some task T and some performance measure P if its performance on T, as measured by P, improves with experience E. \n",
    "\n",
    "> ( Mitchell 1997)\n",
    "\n",
    "Example Experiences: Supervised and Unsupervised learning\n",
    "\n",
    "Example Tasks: Classification, Regression, Clustering\n",
    "\n",
    "Example Performance: Accuracy, F1-Score\n"
   ]
  },
  {
   "cell_type": "markdown",
   "metadata": {
    "collapsed": true
   },
   "source": [
    "## Things you can do with scikit-learn\n",
    "[![ml-map](src/img/ml_map.png)](http://scikit-learn.org/stable/tutorial/machine_learning_map/index.html)"
   ]
  },
  {
   "cell_type": "code",
   "execution_count": null,
   "metadata": {
    "collapsed": true
   },
   "outputs": [],
   "source": []
  }
 ],
 "metadata": {
  "kernelspec": {
   "display_name": "Python [conda env:allen]",
   "language": "python",
   "name": "conda-env-allen-py"
  },
  "language_info": {
   "codemirror_mode": {
    "name": "ipython",
    "version": 2
   },
   "file_extension": ".py",
   "mimetype": "text/x-python",
   "name": "python",
   "nbconvert_exporter": "python",
   "pygments_lexer": "ipython2",
   "version": "2.7.14"
  }
 },
 "nbformat": 4,
 "nbformat_minor": 1
}
