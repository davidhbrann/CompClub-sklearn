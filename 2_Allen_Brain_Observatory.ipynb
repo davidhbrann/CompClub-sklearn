{
 "cells": [
  {
   "cell_type": "markdown",
   "metadata": {},
   "source": [
    "# Exploring the Allen Brain Observatory Database\n",
    "In this notebook, we'll explore data from the allen Brain Observatory database. See their [documentation](http://help.brain-map.org/display/observatory/Documentation) for more details about the mice, experimental setup, data processing, and analysis.\n",
    "\n",
    "For an example notebook from the Allen Institute that demonstrates how to work with the data, see [here](http://alleninstitute.github.io/AllenSDK/_static/examples/nb/brain_observatory.html)."
   ]
  },
  {
   "cell_type": "markdown",
   "metadata": {},
   "source": [
    "### Two recent preprints that have made use of this data:\n",
    "1. Christensen and Pillow (2017). [Running reduces firing but improves coding in rodent higher-order visual cortex](https://www.biorxiv.org/content/early/2017/11/04/214007)\n",
    "2. Esfahany et al. (2017). [Organization of Neural Population Code in Mouse Visual System](https://www.biorxiv.org/content/early/2017/12/04/220558)\n",
    "\n",
    "### Also see\n",
    "* [This helpful blog post](https://kachio.github.io/blog/2016/12/10/Decoding-Identity-of-Natural-Images) on wrangling the Brain Observatory datasets and natural imaging decoding from Onyekachi Odoemene in Anne Churchland's lab. Some of the code for importing is modified from this post, as well as the AllenSDk example.\n"
   ]
  },
  {
   "cell_type": "code",
   "execution_count": 1,
   "metadata": {},
   "outputs": [],
   "source": [
    "from allensdk.core.brain_observatory_cache import BrainObservatoryCache\n",
    "import allensdk.brain_observatory.stimulus_info as stim_info\n",
    "from allensdk.brain_observatory.natural_scenes import NaturalScenes\n",
    "import numpy as np\n",
    "import h5py\n",
    "import os\n",
    "# This class uses a 'manifest' to keep track of downloaded data and metadata.  \n",
    "# All downloaded files will be stored relative to the directory holding the manifest\n",
    "# file.  If 'manifest_file' is a relative path (as it is below), it will be \n",
    "# saved relative to your working directory.  It can also be an absolute path.\n",
    "boc = BrainObservatoryCache(manifest_file='boc/manifest.json')"
   ]
  },
  {
   "cell_type": "code",
   "execution_count": 2,
   "metadata": {},
   "outputs": [
    {
     "name": "stdout",
     "output_type": "stream",
     "text": [
      "all targeted structures: [u'VISal', u'VISam', u'VISl', u'VISp', u'VISpm', u'VISrl']\n",
      "all cre lines: [u'Cux2-CreERT2', u'Emx1-IRES-Cre', u'Nr5a1-Cre', u'Rbp4-Cre_KL100', u'Rorb-IRES2-Cre', u'Scnn1a-Tg3-Cre']\n"
     ]
    }
   ],
   "source": [
    "import pprint\n",
    "targeted_structures = boc.get_all_targeted_structures()\n",
    "print(\"all targeted structures: \" + str(targeted_structures))\n",
    "\n",
    "cre_lines = boc.get_all_cre_lines()\n",
    "print(\"all cre lines: \" + str(cre_lines))"
   ]
  },
  {
   "cell_type": "code",
   "execution_count": 9,
   "metadata": {},
   "outputs": [
    {
     "data": {
      "text/plain": [
       "29"
      ]
     },
     "execution_count": 9,
     "metadata": {},
     "output_type": "execute_result"
    }
   ],
   "source": [
    "experiments = boc.get_ophys_experiments(stimuli=['natural_scenes'],\n",
    "                                        targeted_structures =['VISl', 'VISp'],\n",
    "                                        session_types=[stim_info.THREE_SESSION_B],\n",
    "                                       cre_lines=['Cux2-CreERT2'])\n",
    "len(experiments)"
   ]
  },
  {
   "cell_type": "code",
   "execution_count": 5,
   "metadata": {},
   "outputs": [
    {
     "name": "stdout",
     "output_type": "stream",
     "text": [
      "total cells: 37091\n"
     ]
    }
   ],
   "source": [
    "import pandas as pd\n",
    "\n",
    "# The following line takes a while to run the first time\n",
    "cells = boc.get_cell_specimens()\n",
    "cells = pd.DataFrame.from_records(cells)\n",
    "print(\"total cells: %d\" % len(cells))"
   ]
  },
  {
   "cell_type": "code",
   "execution_count": 7,
   "metadata": {},
   "outputs": [
    {
     "data": {
      "text/html": [
       "<div>\n",
       "<style scoped>\n",
       "    .dataframe tbody tr th:only-of-type {\n",
       "        vertical-align: middle;\n",
       "    }\n",
       "\n",
       "    .dataframe tbody tr th {\n",
       "        vertical-align: top;\n",
       "    }\n",
       "\n",
       "    .dataframe thead th {\n",
       "        text-align: right;\n",
       "    }\n",
       "</style>\n",
       "<table border=\"1\" class=\"dataframe\">\n",
       "  <thead>\n",
       "    <tr style=\"text-align: right;\">\n",
       "      <th></th>\n",
       "      <th>all_stim</th>\n",
       "      <th>area</th>\n",
       "      <th>cell_specimen_id</th>\n",
       "      <th>donor_full_genotype</th>\n",
       "      <th>dsi_dg</th>\n",
       "      <th>experiment_container_id</th>\n",
       "      <th>failed_experiment_container</th>\n",
       "      <th>g_dsi_dg</th>\n",
       "      <th>g_osi_dg</th>\n",
       "      <th>g_osi_sg</th>\n",
       "      <th>...</th>\n",
       "      <th>specimen_id</th>\n",
       "      <th>tfdi_dg</th>\n",
       "      <th>time_to_peak_ns</th>\n",
       "      <th>time_to_peak_sg</th>\n",
       "      <th>tld1_id</th>\n",
       "      <th>tld1_name</th>\n",
       "      <th>tld2_id</th>\n",
       "      <th>tld2_name</th>\n",
       "      <th>tlr1_id</th>\n",
       "      <th>tlr1_name</th>\n",
       "    </tr>\n",
       "  </thead>\n",
       "  <tbody>\n",
       "    <tr>\n",
       "      <th>0</th>\n",
       "      <td>False</td>\n",
       "      <td>VISpm</td>\n",
       "      <td>517394847</td>\n",
       "      <td>Cux2-CreERT2/Cux2-CreERT2;Camk2a-tTA/wt;Ai93(T...</td>\n",
       "      <td>0.852081</td>\n",
       "      <td>511498500</td>\n",
       "      <td>False</td>\n",
       "      <td>0.468690</td>\n",
       "      <td>0.275754</td>\n",
       "      <td>NaN</td>\n",
       "      <td>...</td>\n",
       "      <td>503292439</td>\n",
       "      <td>0.348821</td>\n",
       "      <td>NaN</td>\n",
       "      <td>NaN</td>\n",
       "      <td>177839004</td>\n",
       "      <td>Cux2-CreERT2</td>\n",
       "      <td>177837320</td>\n",
       "      <td>Camk2a-tTA</td>\n",
       "      <td>265943423</td>\n",
       "      <td>Ai93(TITL-GCaMP6f)</td>\n",
       "    </tr>\n",
       "    <tr>\n",
       "      <th>1</th>\n",
       "      <td>False</td>\n",
       "      <td>VISpm</td>\n",
       "      <td>517394850</td>\n",
       "      <td>Cux2-CreERT2/Cux2-CreERT2;Camk2a-tTA/wt;Ai93(T...</td>\n",
       "      <td>NaN</td>\n",
       "      <td>511498500</td>\n",
       "      <td>False</td>\n",
       "      <td>0.730537</td>\n",
       "      <td>0.342070</td>\n",
       "      <td>NaN</td>\n",
       "      <td>...</td>\n",
       "      <td>503292439</td>\n",
       "      <td>0.298012</td>\n",
       "      <td>NaN</td>\n",
       "      <td>NaN</td>\n",
       "      <td>177839004</td>\n",
       "      <td>Cux2-CreERT2</td>\n",
       "      <td>177837320</td>\n",
       "      <td>Camk2a-tTA</td>\n",
       "      <td>265943423</td>\n",
       "      <td>Ai93(TITL-GCaMP6f)</td>\n",
       "    </tr>\n",
       "    <tr>\n",
       "      <th>2</th>\n",
       "      <td>False</td>\n",
       "      <td>VISpm</td>\n",
       "      <td>517394854</td>\n",
       "      <td>Cux2-CreERT2/Cux2-CreERT2;Camk2a-tTA/wt;Ai93(T...</td>\n",
       "      <td>0.692137</td>\n",
       "      <td>511498500</td>\n",
       "      <td>False</td>\n",
       "      <td>0.319382</td>\n",
       "      <td>0.215510</td>\n",
       "      <td>NaN</td>\n",
       "      <td>...</td>\n",
       "      <td>503292439</td>\n",
       "      <td>0.380637</td>\n",
       "      <td>NaN</td>\n",
       "      <td>NaN</td>\n",
       "      <td>177839004</td>\n",
       "      <td>Cux2-CreERT2</td>\n",
       "      <td>177837320</td>\n",
       "      <td>Camk2a-tTA</td>\n",
       "      <td>265943423</td>\n",
       "      <td>Ai93(TITL-GCaMP6f)</td>\n",
       "    </tr>\n",
       "    <tr>\n",
       "      <th>3</th>\n",
       "      <td>False</td>\n",
       "      <td>VISpm</td>\n",
       "      <td>517394858</td>\n",
       "      <td>Cux2-CreERT2/Cux2-CreERT2;Camk2a-tTA/wt;Ai93(T...</td>\n",
       "      <td>NaN</td>\n",
       "      <td>511498500</td>\n",
       "      <td>False</td>\n",
       "      <td>NaN</td>\n",
       "      <td>NaN</td>\n",
       "      <td>0.76123</td>\n",
       "      <td>...</td>\n",
       "      <td>503292439</td>\n",
       "      <td>NaN</td>\n",
       "      <td>0.4655</td>\n",
       "      <td>NaN</td>\n",
       "      <td>177839004</td>\n",
       "      <td>Cux2-CreERT2</td>\n",
       "      <td>177837320</td>\n",
       "      <td>Camk2a-tTA</td>\n",
       "      <td>265943423</td>\n",
       "      <td>Ai93(TITL-GCaMP6f)</td>\n",
       "    </tr>\n",
       "    <tr>\n",
       "      <th>4</th>\n",
       "      <td>False</td>\n",
       "      <td>VISpm</td>\n",
       "      <td>517394862</td>\n",
       "      <td>Cux2-CreERT2/Cux2-CreERT2;Camk2a-tTA/wt;Ai93(T...</td>\n",
       "      <td>NaN</td>\n",
       "      <td>511498500</td>\n",
       "      <td>False</td>\n",
       "      <td>0.391861</td>\n",
       "      <td>0.742900</td>\n",
       "      <td>NaN</td>\n",
       "      <td>...</td>\n",
       "      <td>503292439</td>\n",
       "      <td>0.330543</td>\n",
       "      <td>NaN</td>\n",
       "      <td>NaN</td>\n",
       "      <td>177839004</td>\n",
       "      <td>Cux2-CreERT2</td>\n",
       "      <td>177837320</td>\n",
       "      <td>Camk2a-tTA</td>\n",
       "      <td>265943423</td>\n",
       "      <td>Ai93(TITL-GCaMP6f)</td>\n",
       "    </tr>\n",
       "  </tbody>\n",
       "</table>\n",
       "<p>5 rows × 60 columns</p>\n",
       "</div>"
      ],
      "text/plain": [
       "   all_stim   area  cell_specimen_id  \\\n",
       "0     False  VISpm         517394847   \n",
       "1     False  VISpm         517394850   \n",
       "2     False  VISpm         517394854   \n",
       "3     False  VISpm         517394858   \n",
       "4     False  VISpm         517394862   \n",
       "\n",
       "                                 donor_full_genotype    dsi_dg  \\\n",
       "0  Cux2-CreERT2/Cux2-CreERT2;Camk2a-tTA/wt;Ai93(T...  0.852081   \n",
       "1  Cux2-CreERT2/Cux2-CreERT2;Camk2a-tTA/wt;Ai93(T...       NaN   \n",
       "2  Cux2-CreERT2/Cux2-CreERT2;Camk2a-tTA/wt;Ai93(T...  0.692137   \n",
       "3  Cux2-CreERT2/Cux2-CreERT2;Camk2a-tTA/wt;Ai93(T...       NaN   \n",
       "4  Cux2-CreERT2/Cux2-CreERT2;Camk2a-tTA/wt;Ai93(T...       NaN   \n",
       "\n",
       "   experiment_container_id  failed_experiment_container  g_dsi_dg  g_osi_dg  \\\n",
       "0                511498500                        False  0.468690  0.275754   \n",
       "1                511498500                        False  0.730537  0.342070   \n",
       "2                511498500                        False  0.319382  0.215510   \n",
       "3                511498500                        False       NaN       NaN   \n",
       "4                511498500                        False  0.391861  0.742900   \n",
       "\n",
       "   g_osi_sg         ...          specimen_id   tfdi_dg  time_to_peak_ns  \\\n",
       "0       NaN         ...            503292439  0.348821              NaN   \n",
       "1       NaN         ...            503292439  0.298012              NaN   \n",
       "2       NaN         ...            503292439  0.380637              NaN   \n",
       "3   0.76123         ...            503292439       NaN           0.4655   \n",
       "4       NaN         ...            503292439  0.330543              NaN   \n",
       "\n",
       "   time_to_peak_sg    tld1_id     tld1_name    tld2_id   tld2_name    tlr1_id  \\\n",
       "0              NaN  177839004  Cux2-CreERT2  177837320  Camk2a-tTA  265943423   \n",
       "1              NaN  177839004  Cux2-CreERT2  177837320  Camk2a-tTA  265943423   \n",
       "2              NaN  177839004  Cux2-CreERT2  177837320  Camk2a-tTA  265943423   \n",
       "3              NaN  177839004  Cux2-CreERT2  177837320  Camk2a-tTA  265943423   \n",
       "4              NaN  177839004  Cux2-CreERT2  177837320  Camk2a-tTA  265943423   \n",
       "\n",
       "            tlr1_name  \n",
       "0  Ai93(TITL-GCaMP6f)  \n",
       "1  Ai93(TITL-GCaMP6f)  \n",
       "2  Ai93(TITL-GCaMP6f)  \n",
       "3  Ai93(TITL-GCaMP6f)  \n",
       "4  Ai93(TITL-GCaMP6f)  \n",
       "\n",
       "[5 rows x 60 columns]"
      ]
     },
     "execution_count": 7,
     "metadata": {},
     "output_type": "execute_result"
    }
   ],
   "source": [
    "cells.head()"
   ]
  },
  {
   "cell_type": "code",
   "execution_count": 17,
   "metadata": {},
   "outputs": [
    {
     "data": {
      "text/plain": [
       "(9677, 60)"
      ]
     },
     "execution_count": 17,
     "metadata": {},
     "output_type": "execute_result"
    }
   ],
   "source": [
    "ec_ids = [ ec['experiment_container_id'] for ec in experiments ]\n",
    "natural_scences_cells = cells[cells['experiment_container_id'].isin(ec_ids)]\n",
    "natural_scences_cells.shape"
   ]
  },
  {
   "cell_type": "code",
   "execution_count": 19,
   "metadata": {},
   "outputs": [
    {
     "data": {
      "text/plain": [
       "Index([u'all_stim', u'area', u'cell_specimen_id', u'donor_full_genotype',\n",
       "       u'dsi_dg', u'experiment_container_id', u'failed_experiment_container',\n",
       "       u'g_dsi_dg', u'g_osi_dg', u'g_osi_sg', u'image_sel_ns',\n",
       "       u'imaging_depth', u'osi_dg', u'osi_sg', u'p_dg', u'p_ns',\n",
       "       u'p_run_mod_dg', u'p_run_mod_ns', u'p_run_mod_sg', u'p_sg',\n",
       "       u'peak_dff_dg', u'peak_dff_ns', u'peak_dff_sg', u'pref_dir_dg',\n",
       "       u'pref_image_ns', u'pref_ori_sg', u'pref_phase_sg', u'pref_sf_sg',\n",
       "       u'pref_tf_dg', u'reliability_dg', u'reliability_nm1_a',\n",
       "       u'reliability_nm1_b', u'reliability_nm1_c', u'reliability_nm2',\n",
       "       u'reliability_nm3', u'reliability_ns', u'reliability_sg',\n",
       "       u'rf_area_off_lsn', u'rf_area_on_lsn', u'rf_center_off_x_lsn',\n",
       "       u'rf_center_off_y_lsn', u'rf_center_on_x_lsn', u'rf_center_on_y_lsn',\n",
       "       u'rf_chi2_lsn', u'rf_distance_lsn', u'rf_overlap_index_lsn',\n",
       "       u'run_mod_dg', u'run_mod_ns', u'run_mod_sg', u'sfdi_sg', u'specimen_id',\n",
       "       u'tfdi_dg', u'time_to_peak_ns', u'time_to_peak_sg', u'tld1_id',\n",
       "       u'tld1_name', u'tld2_id', u'tld2_name', u'tlr1_id', u'tlr1_name'],\n",
       "      dtype='object')"
      ]
     },
     "execution_count": 19,
     "metadata": {},
     "output_type": "execute_result"
    }
   ],
   "source": [
    "natural_scences_cells.columns"
   ]
  },
  {
   "cell_type": "code",
   "execution_count": null,
   "metadata": {},
   "outputs": [
    {
     "name": "stdout",
     "output_type": "stream",
     "text": [
      "0\n"
     ]
    },
    {
     "name": "stderr",
     "output_type": "stream",
     "text": [
      "2017-12-11 15:26:26,024 allensdk.api.api.retrieve_file_over_http INFO     Downloading URL: http://api.brain-map.org/api/v2/well_known_file_download/514430242\n"
     ]
    }
   ],
   "source": [
    "# this takes a long time to run and downloads a ton of data\n",
    "for i,exp in enumerate(experiments):\n",
    "    print(i)\n",
    "    boc.get_ophys_experiment_data(exp['id']) "
   ]
  },
  {
   "cell_type": "code",
   "execution_count": null,
   "metadata": {},
   "outputs": [],
   "source": []
  }
 ],
 "metadata": {
  "kernelspec": {
   "display_name": "Python 2",
   "language": "python",
   "name": "python2"
  },
  "language_info": {
   "codemirror_mode": {
    "name": "ipython",
    "version": 2
   },
   "file_extension": ".py",
   "mimetype": "text/x-python",
   "name": "python",
   "nbconvert_exporter": "python",
   "pygments_lexer": "ipython2",
   "version": "2.7.14"
  }
 },
 "nbformat": 4,
 "nbformat_minor": 1
}
